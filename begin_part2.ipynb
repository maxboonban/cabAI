{
 "cells": [
  {
   "cell_type": "code",
   "execution_count": 2,
   "metadata": {},
   "outputs": [],
   "source": [
    "import getpass\n",
    "import os\n",
    "\n",
    "if not os.environ.get(\"OPENAI_API_KEY\"):\n",
    "  os.environ[\"OPENAI_API_KEY\"] = getpass.getpass(\"Enter API key for OpenAI: \")\n",
    "\n",
    "from langchain_openai import ChatOpenAI\n",
    "\n",
    "llm = ChatOpenAI(model=\"gpt-4o-mini\")"
   ]
  },
  {
   "cell_type": "code",
   "execution_count": 3,
   "metadata": {},
   "outputs": [],
   "source": [
    "import getpass\n",
    "import os\n",
    "\n",
    "if not os.environ.get(\"OPENAI_API_KEY\"):\n",
    "  os.environ[\"OPENAI_API_KEY\"] = getpass.getpass(\"Enter API key for OpenAI: \")\n",
    "\n",
    "from langchain_openai import OpenAIEmbeddings\n",
    "\n",
    "embeddings = OpenAIEmbeddings(model=\"text-embedding-3-large\")"
   ]
  },
  {
   "cell_type": "code",
   "execution_count": 4,
   "metadata": {},
   "outputs": [],
   "source": [
    "from langchain_core.vectorstores import InMemoryVectorStore\n",
    "\n",
    "vector_store = InMemoryVectorStore(embeddings)"
   ]
  },
  {
   "cell_type": "code",
   "execution_count": 5,
   "metadata": {},
   "outputs": [],
   "source": [
    "os.environ[\"LANGSMITH_TRACING\"] = \"true\"\n",
    "if not os.environ.get(\"LANGSMITH_API_KEY\"):\n",
    "    os.environ[\"LANGSMITH_API_KEY\"] = getpass.getpass()"
   ]
  },
  {
   "cell_type": "code",
   "execution_count": 6,
   "metadata": {},
   "outputs": [
    {
     "name": "stderr",
     "output_type": "stream",
     "text": [
      "USER_AGENT environment variable not set, consider setting it to identify your requests.\n"
     ]
    }
   ],
   "source": [
    "import bs4\n",
    "from langchain import hub\n",
    "from langchain_community.document_loaders import WebBaseLoader\n",
    "from langchain_core.documents import Document\n",
    "from langchain_text_splitters import RecursiveCharacterTextSplitter\n",
    "from typing_extensions import List, TypedDict\n",
    "\n",
    "from langchain_community.document_loaders import JSONLoader\n",
    "import json\n",
    "from pathlib import Path\n",
    "\n",
    "\n",
    "path = \"web_scrape/web_scrape_output/csci_courses_with_descriptions.json\"\n",
    "\n",
    "#data = json.loads(Path(path).read_text())\n",
    "loader = JSONLoader(\n",
    "         file_path=path,\n",
    "         jq_schema='.courses',\n",
    "         text_content=False)\n",
    "\n",
    "docs = loader.load()\n",
    "\n",
    "text_splitter = RecursiveCharacterTextSplitter(chunk_size=1000, chunk_overlap=200)\n",
    "all_splits = text_splitter.split_documents(docs)\n",
    "\n",
    "# Index chunks\n",
    "_ = vector_store.add_documents(documents=all_splits)"
   ]
  },
  {
   "cell_type": "code",
   "execution_count": 7,
   "metadata": {},
   "outputs": [],
   "source": [
    "from langgraph.graph import MessagesState, StateGraph\n",
    "\n",
    "graph_builder = StateGraph(MessagesState)"
   ]
  },
  {
   "cell_type": "code",
   "execution_count": 8,
   "metadata": {},
   "outputs": [],
   "source": [
    "from langchain_core.tools import tool\n",
    "\n",
    "\n",
    "@tool(response_format=\"content_and_artifact\")\n",
    "def retrieve(query: str):\n",
    "    \"\"\"Retrieve information related to a query.\"\"\"\n",
    "    retrieved_docs = vector_store.similarity_search(query, k=2)\n",
    "    serialized = \"\\n\\n\".join(\n",
    "        (f\"Source: {doc.metadata}\\n\" f\"Content: {doc.page_content}\")\n",
    "        for doc in retrieved_docs\n",
    "    )\n",
    "    return serialized, retrieved_docs"
   ]
  },
  {
   "cell_type": "code",
   "execution_count": 9,
   "metadata": {},
   "outputs": [],
   "source": [
    "from langchain_core.messages import SystemMessage\n",
    "from langgraph.prebuilt import ToolNode\n",
    "\n",
    "\n",
    "# Step 1: Generate an AIMessage that may include a tool-call to be sent.\n",
    "def query_or_respond(state: MessagesState):\n",
    "    \"\"\"Generate tool call for retrieval or respond.\"\"\"\n",
    "    llm_with_tools = llm.bind_tools([retrieve])\n",
    "    response = llm_with_tools.invoke(state[\"messages\"])\n",
    "    # MessagesState appends messages to state instead of overwriting\n",
    "    return {\"messages\": [response]}\n",
    "\n",
    "\n",
    "# Step 2: Execute the retrieval.\n",
    "tools = ToolNode([retrieve])\n",
    "\n",
    "\n",
    "# Step 3: Generate a response using the retrieved content.\n",
    "def generate(state: MessagesState):\n",
    "    \"\"\"Generate answer.\"\"\"\n",
    "    # Get generated ToolMessages\n",
    "    recent_tool_messages = []\n",
    "    for message in reversed(state[\"messages\"]):\n",
    "        if message.type == \"tool\":\n",
    "            recent_tool_messages.append(message)\n",
    "        else:\n",
    "            break\n",
    "    tool_messages = recent_tool_messages[::-1]\n",
    "\n",
    "    # Format into prompt\n",
    "    docs_content = \"\\n\\n\".join(doc.content for doc in tool_messages)\n",
    "    system_message_content = (\n",
    "        \"You are an assistant for question-answering tasks. \"\n",
    "        \"Use the following pieces of retrieved context to answer \"\n",
    "        \"the question. If you don't know the answer, say that you \"\n",
    "        \"don't know. Use three sentences maximum and keep the \"\n",
    "        \"answer concise.\"\n",
    "        \"\\n\\n\"\n",
    "        f\"{docs_content}\"\n",
    "    )\n",
    "    conversation_messages = [\n",
    "        message\n",
    "        for message in state[\"messages\"]\n",
    "        if message.type in (\"human\", \"system\")\n",
    "        or (message.type == \"ai\" and not message.tool_calls)\n",
    "    ]\n",
    "    prompt = [SystemMessage(system_message_content)] + conversation_messages\n",
    "\n",
    "    # Run\n",
    "    response = llm.invoke(prompt)\n",
    "    return {\"messages\": [response]}"
   ]
  },
  {
   "cell_type": "code",
   "execution_count": 10,
   "metadata": {},
   "outputs": [],
   "source": [
    "from langgraph.graph import END\n",
    "from langgraph.prebuilt import ToolNode, tools_condition\n",
    "\n",
    "graph_builder.add_node(query_or_respond)\n",
    "graph_builder.add_node(tools)\n",
    "graph_builder.add_node(generate)\n",
    "\n",
    "graph_builder.set_entry_point(\"query_or_respond\")\n",
    "graph_builder.add_conditional_edges(\n",
    "    \"query_or_respond\",\n",
    "    tools_condition,\n",
    "    {END: END, \"tools\": \"tools\"},\n",
    ")\n",
    "graph_builder.add_edge(\"tools\", \"generate\")\n",
    "graph_builder.add_edge(\"generate\", END)\n",
    "\n",
    "graph = graph_builder.compile()"
   ]
  },
  {
   "cell_type": "code",
   "execution_count": 13,
   "metadata": {},
   "outputs": [
    {
     "name": "stdout",
     "output_type": "stream",
     "text": [
      "================================\u001b[1m Human Message \u001b[0m=================================\n",
      "\n",
      "Tell me good courses on machine learning\n",
      "==================================\u001b[1m Ai Message \u001b[0m==================================\n",
      "Tool Calls:\n",
      "  retrieve (call_rjUmhU7zY8nZTh5sndQ6R4Hz)\n",
      " Call ID: call_rjUmhU7zY8nZTh5sndQ6R4Hz\n",
      "  Args:\n",
      "    query: good courses on machine learning\n",
      "=================================\u001b[1m Tool Message \u001b[0m=================================\n",
      "Name: retrieve\n",
      "\n",
      "Source: {'source': '/Users/maxwirattawut/Documents/GitHub/cabAI/web_scrape/web_scrape_output/csci_courses_with_descriptions.json', 'seq_num': 1}\n",
      "Content: course is designed to help you understand the underlying concepts as well as the promise and pitfalls of deep learning. It also aims at providing hands-on practice of implementing and applying deep learning methods in Python.\"}, {\"key\": \"2095\", \"code\": \"CSCI 1491\", \"title\": \"Fairness in Automated Decision Making\", \"crn\": \"27672\", \"no\": \"S01\", \"total\": \"1\", \"schd\": \"S\", \"stat\": \"F\", \"hide\": \"\", \"isCancelled\": \"\", \"meets\": \"TTh 1-2:20p\", \"mpkey\": \"2020\", \"meetingTimes\": \"[{\\\"meet_day\\\":\\\"1\\\",\\\"start_time\\\":\\\"1300\\\",\\\"end_time\\\":\\\"1420\\\"},{\\\"meet_day\\\":\\\"3\\\",\\\"start_time\\\":\\\"1300\\\",\\\"end_time\\\":\\\"1420\\\"}]\", \"instr\": \"Venkatasubramanian/Sonboli\", \"start_date\": \"2025-01-22\", \"end_date\": \"2025-05-16\", \"permreq\": \"N\", \"rpt\": \"N\", \"cart_opts\": \"{\\\"grade_mode\\\":{\\\"cart_field\\\":\\\"p_gmod\\\",\\\"enabled\\\":true,\\\"options\\\":[{\\\"value\\\":\\\"G\\\",\\\"label\\\":\\\"Standard ABC/No\n",
      "\n",
      "Source: {'source': '/Users/maxwirattawut/Documents/GitHub/cabAI/web_scrape/web_scrape_output/csci_courses_with_descriptions.json', 'seq_num': 1}\n",
      "Content: ABC/No Credit\\\",\\\"default\\\":true,\\\"selected\\\":\\\"selected\\\"},{\\\"value\\\":\\\"A\\\",\\\"label\\\":\\\"Audit\\\",\\\"default\\\":false,\\\"selected\\\":\\\"\\\"},{\\\"value\\\":\\\"S\\\",\\\"label\\\":\\\"Satisfactory/No Credit\\\",\\\"default\\\":false,\\\"selected\\\":\\\"\\\"}]},\\\"credit_hrs\\\":{\\\"cartField\\\":\\\"p_hours\\\",\\\"enabled\\\":true,\\\"options\\\":[{\\\"value\\\":\\\"1\\\",\\\"label\\\":\\\"1\\\",\\\"default\\\":true,\\\"selected\\\":\\\"selected\\\"}]},\\\"swap_section_with\\\":{\\\"enabled\\\":true,\\\"options\\\":[{\\\"value\\\":\\\"\\\",\\\"label\\\":\\\"Not Applicable\\\",\\\"default\\\":true,\\\"selected\\\":\\\"selected\\\"}]}}\", \"linked_crns\": \"\", \"rfam\": \"4354\", \"lrfam\": \"\", \"srcdb\": \"202420\", \"changehash\": \"dWhe32ShK9zwFvtjOPxHEQ\", \"offsets\": \"0 0 0 4\", \"rank\": 1, \"description\": \"In this course, we will explore the theoretical foundations of machine learning and deep learning. We will focus on designing and analyzing machine learning algorithms with provable guarantees. More specifically, in this course we will (1) introduce basic tools in linear algebra and optimization, including the power\n",
      "==================================\u001b[1m Ai Message \u001b[0m==================================\n",
      "\n",
      "One good course on machine learning is \"Fairness in Automated Decision Making\" (CSCI 1491), which explores the theoretical foundations and focuses on designing and analyzing algorithms. Another course emphasizes hands-on practice of implementing deep learning methods in Python while understanding its concepts and pitfalls. Both courses provide a solid foundation in machine learning principles.\n"
     ]
    }
   ],
   "source": [
    "input_message = \"Tell me good courses on machine learning\"\n",
    "\n",
    "for step in graph.stream(\n",
    "    {\"messages\": [{\"role\": \"user\", \"content\": input_message}]},\n",
    "    stream_mode=\"values\",\n",
    "):\n",
    "    step[\"messages\"][-1].pretty_print()"
   ]
  },
  {
   "cell_type": "code",
   "execution_count": 14,
   "metadata": {},
   "outputs": [
    {
     "name": "stdout",
     "output_type": "stream",
     "text": [
      "================================\u001b[1m Human Message \u001b[0m=================================\n",
      "\n",
      "Can you only filter out for courses with course code that is in the 2000-level?\n",
      "==================================\u001b[1m Ai Message \u001b[0m==================================\n",
      "Tool Calls:\n",
      "  retrieve (call_3cep3cmzntl8IViMSu1UOusG)\n",
      " Call ID: call_3cep3cmzntl8IViMSu1UOusG\n",
      "  Args:\n",
      "    query: courses with 2000-level course code\n",
      "=================================\u001b[1m Tool Message \u001b[0m=================================\n",
      "Name: retrieve\n",
      "\n",
      "Source: {'source': '/Users/maxwirattawut/Documents/GitHub/cabAI/web_scrape/web_scrape_output/csci_courses_with_descriptions.json', 'seq_num': 1}\n",
      "Content: <a href=\\\"/search/?p=CSCI%200112\\\" data-action=\\\"result-detail\\\" data-group=\\\"code:CSCI 0112\\\"  class=\\\"notoffered\\\">CSCI 0112</a>, <a href=\\\"/search/?p=CSCI%200150\\\" data-action=\\\"result-detail\\\" data-group=\\\"code:CSCI 0150\\\"  class=\\\"notoffered\\\">CSCI 0150</a>, <a href=\\\"/search/?p=CSCI%200170\\\" data-action=\\\"result-detail\\\" data-group=\\\"code:CSCI 0170\\\"  class=\\\"notoffered\\\">0170</a>, or <a href=\\\"/search/?p=CSCI%200190\\\" data-action=\\\"result-detail\\\" data-group=\\\"code:CSCI 0190\\\"  class=\\\"notoffered\\\">CSCI 0190</a>. In addition, <a href=\\\"/search/?p=CSCI%200111\\\" data-action=\\\"result-detail\\\" data-group=\\\"code:CSCI 0111\\\" >CSCI 0111</a> can be used with both additional work and the instructor's permission. The first two weeks of the course will be taught as at least two parallel tracks based on which prerequisite course a student has taken.<br/>\\nCSCI 0200 will be offered every semester (fall and spring).\"}, {\"key\": \"2023\", \"code\": \"CSCI 0200\", \"title\": \"Program Design with Data\n",
      "\n",
      "Source: {'source': '/Users/maxwirattawut/Documents/GitHub/cabAI/web_scrape/web_scrape_output/csci_courses_with_descriptions.json', 'seq_num': 1}\n",
      "Content: based on which prerequisite course a student has taken.<br/>\\nCSCI 0200 will be offered every semester (fall and spring).\"}, {\"key\": \"2014\", \"code\": \"CSCI 0200\", \"title\": \"Program Design with Data Structures and Algorithms\", \"crn\": \"28545\", \"no\": \"C02\", \"total\": \"13\", \"schd\": \"C\", \"stat\": \"F\", \"hide\": \"\", \"isCancelled\": \"\", \"meets\": \"M 6-7:50p\", \"mpkey\": \"3468\", \"meetingTimes\": \"[{\\\"meet_day\\\":\\\"0\\\",\\\"start_time\\\":\\\"1800\\\",\\\"end_time\\\":\\\"1950\\\"}]\", \"instr\": \"K. Fisler\", \"start_date\": \"2025-01-22\", \"end_date\": \"2025-05-16\", \"permreq\": \"N\", \"rpt\": \"N\", \"cart_opts\": \"{\\\"grade_mode\\\":{\\\"cart_field\\\":\\\"p_gmod\\\",\\\"enabled\\\":true,\\\"options\\\":[{\\\"value\\\":\\\"G\\\",\\\"label\\\":\\\"Standard ABC/No Credit\\\",\\\"selected\\\":\\\"selected\\\",\\\"default\\\":true}],\\\"hidden\\\":true},\\\"credit_hrs\\\":{\\\"cartField\\\":\\\"p_hours\\\",\\\"enabled\\\":true,\\\"options\\\":[{\\\"value\\\":\\\"0\\\",\\\"label\\\":\\\"0\\\",\\\"default\\\":true,\\\"selected\\\":\\\"selected\\\"}]},\\\"swap_section_with\\\":{\\\"enabled\\\":true,\\\"options\\\":[{\\\"value\\\":\\\"\\\",\\\"label\\\":\\\"Not\n",
      "==================================\u001b[1m Ai Message \u001b[0m==================================\n",
      "\n",
      "Yes, you can filter for courses with course codes that are in the 2000-level, such as CSCI 0200. This course is offered every semester (fall and spring).\n"
     ]
    }
   ],
   "source": [
    "input_message = \"Can you only filter out for courses with course code that is in the 2000-level?\"\n",
    "\n",
    "for step in graph.stream(\n",
    "    {\"messages\": [{\"role\": \"user\", \"content\": input_message}]},\n",
    "    stream_mode=\"values\",\n",
    "):\n",
    "    step[\"messages\"][-1].pretty_print()"
   ]
  },
  {
   "cell_type": "code",
   "execution_count": 15,
   "metadata": {},
   "outputs": [
    {
     "name": "stdout",
     "output_type": "stream",
     "text": [
      "================================\u001b[1m Human Message \u001b[0m=================================\n",
      "\n",
      "Is D. Ritchie teaching any course this semester?\n",
      "==================================\u001b[1m Ai Message \u001b[0m==================================\n",
      "Tool Calls:\n",
      "  retrieve (call_mhCEHm3KK7W5JLXO01JKWjac)\n",
      " Call ID: call_mhCEHm3KK7W5JLXO01JKWjac\n",
      "  Args:\n",
      "    query: D. Ritchie course schedule this semester\n",
      "=================================\u001b[1m Tool Message \u001b[0m=================================\n",
      "Name: retrieve\n",
      "\n",
      "Source: {'source': '/Users/maxwirattawut/Documents/GitHub/cabAI/web_scrape/web_scrape_output/csci_courses_with_descriptions.json', 'seq_num': 1}\n",
      "Content: to take the course should contact the instructor.\"}, {\"key\": \"2077\", \"code\": \"CSCI 1340\", \"title\": \"Introduction to Software Engineering\", \"crn\": \"27035\", \"no\": \"S01\", \"total\": \"2\", \"schd\": \"S\", \"stat\": \"F\", \"hide\": \"\", \"isCancelled\": \"\", \"meets\": \"TTh 1-2:20p\", \"mpkey\": \"2020\", \"meetingTimes\": \"[{\\\"meet_day\\\":\\\"1\\\",\\\"start_time\\\":\\\"1300\\\",\\\"end_time\\\":\\\"1420\\\"},{\\\"meet_day\\\":\\\"3\\\",\\\"start_time\\\":\\\"1300\\\",\\\"end_time\\\":\\\"1420\\\"}]\", \"instr\": \"T. Nelson\", \"start_date\": \"2025-01-22\", \"end_date\": \"2025-05-16\", \"permreq\": \"N\", \"rpt\": \"N\", \"cart_opts\": \"{\\\"grade_mode\\\":{\\\"cart_field\\\":\\\"p_gmod\\\",\\\"enabled\\\":true,\\\"options\\\":[{\\\"value\\\":\\\"G\\\",\\\"label\\\":\\\"Standard ABC/No Credit\\\",\\\"default\\\":true,\\\"selected\\\":\\\"selected\\\"},{\\\"value\\\":\\\"A\\\",\\\"label\\\":\\\"Audit\\\",\\\"default\\\":false,\\\"selected\\\":\\\"\\\"},{\\\"value\\\":\\\"S\\\",\\\"label\\\":\\\"Satisfactory/No\n",
      "\n",
      "Source: {'source': '/Users/maxwirattawut/Documents/GitHub/cabAI/web_scrape/web_scrape_output/csci_courses_with_descriptions.json', 'seq_num': 1}\n",
      "Content: will also be discussed. The class will be a combination of reading and discussing research papers, and coding assignments that will culminate in a final project on a topic covered in class.\"}, {\"key\": \"2282\", \"code\": \"CSCI 2240\", \"title\": \"Advanced Computer Graphics\", \"crn\": \"26662\", \"no\": \"S01\", \"total\": \"1\", \"schd\": \"S\", \"stat\": \"A\", \"hide\": \"\", \"isCancelled\": \"\", \"meets\": \"MWF 11-11:50a\", \"mpkey\": \"2044\", \"meetingTimes\": \"[{\\\"meet_day\\\":\\\"0\\\",\\\"start_time\\\":\\\"1100\\\",\\\"end_time\\\":\\\"1150\\\"},{\\\"meet_day\\\":\\\"2\\\",\\\"start_time\\\":\\\"1100\\\",\\\"end_time\\\":\\\"1150\\\"},{\\\"meet_day\\\":\\\"4\\\",\\\"start_time\\\":\\\"1100\\\",\\\"end_time\\\":\\\"1150\\\"}]\", \"instr\": \"D. Ritchie\", \"start_date\": \"2025-01-22\", \"end_date\": \"2025-05-16\", \"permreq\": \"N\", \"rpt\": \"N\", \"cart_opts\": \"{\\\"grade_mode\\\":{\\\"cart_field\\\":\\\"p_gmod\\\",\\\"enabled\\\":true,\\\"options\\\":[{\\\"value\\\":\\\"G\\\",\\\"label\\\":\\\"Standard ABC/No\n",
      "==================================\u001b[1m Ai Message \u001b[0m==================================\n",
      "\n",
      "Yes, D. Ritchie is teaching the course \"CSCI 2240 - Advanced Computer Graphics\" this semester. The course meets on MWF from 11:00 to 11:50 a.m.\n"
     ]
    }
   ],
   "source": [
    "input_message = \"Is D. Ritchie teaching any course this semester?\"\n",
    "\n",
    "for step in graph.stream(\n",
    "    {\"messages\": [{\"role\": \"user\", \"content\": input_message}]},\n",
    "    stream_mode=\"values\",\n",
    "):\n",
    "    step[\"messages\"][-1].pretty_print()"
   ]
  },
  {
   "cell_type": "code",
   "execution_count": 17,
   "metadata": {},
   "outputs": [
    {
     "name": "stdout",
     "output_type": "stream",
     "text": [
      "================================\u001b[1m Human Message \u001b[0m=================================\n",
      "\n",
      "Is there any other course he's teaching asides from CSCI 2240?\n",
      "==================================\u001b[1m Ai Message \u001b[0m==================================\n",
      "Tool Calls:\n",
      "  retrieve (call_HLu3kuNEDeykTeWCgEjbt5Hv)\n",
      " Call ID: call_HLu3kuNEDeykTeWCgEjbt5Hv\n",
      "  Args:\n",
      "    query: courses taught by CSCI 2240 instructor\n",
      "=================================\u001b[1m Tool Message \u001b[0m=================================\n",
      "Name: retrieve\n",
      "\n",
      "Source: {'source': '/Users/maxwirattawut/Documents/GitHub/cabAI/web_scrape/web_scrape_output/csci_courses_with_descriptions.json', 'seq_num': 1}\n",
      "Content: data-action=\\\"result-detail\\\" data-group=\\\"code:CSCI 0320\\\" >0320</a>, <a href=\\\"/search/?p=CSCI%200330\\\" data-action=\\\"result-detail\\\" data-group=\\\"code:CSCI 0330\\\"  class=\\\"notoffered\\\">CSCI 0330</a>, <a href=\\\"/search/?p=CSCI%201310\\\" data-action=\\\"result-detail\\\" data-group=\\\"code:CSCI 1310\\\" >CSCI 1310</a>, OR <a href=\\\"/search/?p=CSCI%201330\\\" data-action=\\\"result-detail\\\" data-group=\\\"code:CSCI 1330\\\"  class=\\\"notoffered\\\">CSCI 1330</a> and recommended: one of <a href=\\\"/search/?p=CSCI%200530\\\" data-action=\\\"result-detail\\\" data-group=\\\"code:CSCI 0530\\\"  class=\\\"notoffered\\\">CSCI 0530</a>, <a href=\\\"/search/?p=CSCI%201570\\\" data-action=\\\"result-detail\\\" data-group=\\\"code:CSCI 1570\\\"  class=\\\"notoffered\\\">CSCI 1570</a>, <a href=\\\"/search/?p=MATH%200520\\\" data-action=\\\"result-detail\\\" data-group=\\\"code:MATH 0520\\\" >MATH 0520</a> or <a href=\\\"/search/?p=MATH%200540\\\" data-action=\\\"result-detail\\\" data-group=\\\"code:MATH 0540\\\" >MATH 0540</a>.\"}, {\"key\": \"2297\", \"code\": \"CSCI\n",
      "\n",
      "Source: {'source': '/Users/maxwirattawut/Documents/GitHub/cabAI/web_scrape/web_scrape_output/csci_courses_with_descriptions.json', 'seq_num': 1}\n",
      "Content: will also be discussed. The class will be a combination of reading and discussing research papers, and coding assignments that will culminate in a final project on a topic covered in class.\"}, {\"key\": \"2282\", \"code\": \"CSCI 2240\", \"title\": \"Advanced Computer Graphics\", \"crn\": \"26662\", \"no\": \"S01\", \"total\": \"1\", \"schd\": \"S\", \"stat\": \"A\", \"hide\": \"\", \"isCancelled\": \"\", \"meets\": \"MWF 11-11:50a\", \"mpkey\": \"2044\", \"meetingTimes\": \"[{\\\"meet_day\\\":\\\"0\\\",\\\"start_time\\\":\\\"1100\\\",\\\"end_time\\\":\\\"1150\\\"},{\\\"meet_day\\\":\\\"2\\\",\\\"start_time\\\":\\\"1100\\\",\\\"end_time\\\":\\\"1150\\\"},{\\\"meet_day\\\":\\\"4\\\",\\\"start_time\\\":\\\"1100\\\",\\\"end_time\\\":\\\"1150\\\"}]\", \"instr\": \"D. Ritchie\", \"start_date\": \"2025-01-22\", \"end_date\": \"2025-05-16\", \"permreq\": \"N\", \"rpt\": \"N\", \"cart_opts\": \"{\\\"grade_mode\\\":{\\\"cart_field\\\":\\\"p_gmod\\\",\\\"enabled\\\":true,\\\"options\\\":[{\\\"value\\\":\\\"G\\\",\\\"label\\\":\\\"Standard ABC/No\n",
      "==================================\u001b[1m Ai Message \u001b[0m==================================\n",
      "\n",
      "I don't know.\n"
     ]
    }
   ],
   "source": [
    "input_message = \"Is there any other course he's teaching asides from CSCI 2240?\"\n",
    "\n",
    "for step in graph.stream(\n",
    "    {\"messages\": [{\"role\": \"user\", \"content\": input_message}]},\n",
    "    stream_mode=\"values\",\n",
    "):\n",
    "    step[\"messages\"][-1].pretty_print()"
   ]
  },
  {
   "cell_type": "code",
   "execution_count": null,
   "metadata": {},
   "outputs": [],
   "source": []
  }
 ],
 "metadata": {
  "kernelspec": {
   "display_name": "csci2470",
   "language": "python",
   "name": "python3"
  },
  "language_info": {
   "codemirror_mode": {
    "name": "ipython",
    "version": 3
   },
   "file_extension": ".py",
   "mimetype": "text/x-python",
   "name": "python",
   "nbconvert_exporter": "python",
   "pygments_lexer": "ipython3",
   "version": "3.11.9"
  }
 },
 "nbformat": 4,
 "nbformat_minor": 2
}
