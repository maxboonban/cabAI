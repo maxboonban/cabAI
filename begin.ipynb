{
 "cells": [
  {
   "cell_type": "code",
   "execution_count": 2,
   "metadata": {},
   "outputs": [],
   "source": [
    "import getpass\n",
    "import os\n",
    "\n",
    "os.environ[\"LANGSMITH_TRACING\"] = \"true\"\n",
    "os.environ[\"LANGSMITH_API_KEY\"] = getpass.getpass()"
   ]
  },
  {
   "cell_type": "code",
   "execution_count": 3,
   "metadata": {},
   "outputs": [],
   "source": [
    "os.environ[\"LANGSMITH_API_KEY\"] = getpass.getpass(\"Enter your LangSmith API key: \")\n",
    "os.environ[\"OPENAI_API_KEY\"] = getpass.getpass(\"Enter your openai API key: \")"
   ]
  },
  {
   "cell_type": "code",
   "execution_count": 20,
   "metadata": {},
   "outputs": [],
   "source": [
    "from langchain_openai import ChatOpenAI\n",
    "\n",
    "llm = ChatOpenAI(model=\"gpt-4o-mini\")"
   ]
  },
  {
   "cell_type": "code",
   "execution_count": 11,
   "metadata": {},
   "outputs": [],
   "source": [
    "import getpass\n",
    "import os\n",
    "\n",
    "if not os.environ.get(\"OPENAI_API_KEY\"):\n",
    "  os.environ[\"OPENAI_API_KEY\"] = getpass.getpass(\"Enter API key for OpenAI: \")\n",
    "\n"
   ]
  },
  {
   "cell_type": "code",
   "execution_count": 21,
   "metadata": {},
   "outputs": [],
   "source": [
    "from langchain_core.vectorstores import InMemoryVectorStore\n",
    "from langchain_openai import OpenAIEmbeddings\n",
    "\n",
    "embeddings = OpenAIEmbeddings(model=\"text-embedding-3-large\")\n",
    "vector_store = InMemoryVectorStore(embeddings)"
   ]
  },
  {
   "cell_type": "code",
   "execution_count": 22,
   "metadata": {},
   "outputs": [],
   "source": [
    "import bs4\n",
    "from langchain import hub\n",
    "from langchain_community.document_loaders import WebBaseLoader\n",
    "from langchain_core.documents import Document\n",
    "from langchain_text_splitters import RecursiveCharacterTextSplitter\n",
    "from langgraph.graph import START, StateGraph\n",
    "from typing_extensions import List, TypedDict"
   ]
  },
  {
   "cell_type": "code",
   "execution_count": 32,
   "metadata": {},
   "outputs": [],
   "source": [
    "schema = {\n",
    "  \"type\": \"object\",\n",
    "  \"properties\": {\n",
    "    \"srcdb\": { \"type\": \"string\" },\n",
    "    \"count\": { \"type\": \"integer\" },\n",
    "    \"results\": {\n",
    "      \"type\": \"array\",\n",
    "      \"items\": {\n",
    "        \"type\": \"object\",\n",
    "        \"properties\": {\n",
    "          \"key\": { \"type\": \"string\" },\n",
    "          \"code\": { \"type\": \"string\" },\n",
    "          \"title\": { \"type\": \"string\" },\n",
    "          \"crn\": { \"type\": \"string\" },\n",
    "          \"no\": { \"type\": \"string\" },\n",
    "          \"total\": { \"type\": \"string\" },\n",
    "          \"schd\": { \"type\": \"string\" },\n",
    "          \"stat\": { \"type\": \"string\" },\n",
    "          \"hide\": { \"type\": \"string\" },\n",
    "          \"isCancelled\": { \"type\": \"string\" },\n",
    "          \"meets\": { \"type\": \"string\" },\n",
    "          \"mpkey\": { \"type\": \"string\" },\n",
    "          \"meetingTimes\": { \"type\": \"string\" }, \n",
    "          \"instr\": { \"type\": \"string\" },\n",
    "          \"start_date\": { \"type\": \"string\", \"format\": \"date\" },\n",
    "          \"end_date\": { \"type\": \"string\", \"format\": \"date\" },\n",
    "          \"permreq\": { \"type\": \"string\" },\n",
    "          \"rpt\": { \"type\": \"string\" },\n",
    "          \"cart_opts\": { \"type\": \"string\" }, \n",
    "          \"linked_crns\": { \"type\": \"string\" },\n",
    "          \"rfam\": { \"type\": \"string\" },\n",
    "          \"lrfam\": { \"type\": \"string\" },\n",
    "          \"srcdb\": { \"type\": \"string\" },\n",
    "          \"changehash\": { \"type\": \"string\" },\n",
    "          \"offsets\": { \"type\": \"string\" },\n",
    "          \"rank\": { \"type\": \"integer\" }\n",
    "        },\n",
    "        \"required\": [\n",
    "          \"key\", \"code\", \"title\", \"crn\", \"no\", \"total\", \"schd\", \"stat\", \n",
    "          \"instr\", \"start_date\", \"end_date\", \"srcdb\", \"rank\"\n",
    "        ]\n",
    "      }\n",
    "    }\n",
    "  },\n",
    "  \"required\": [\"srcdb\", \"count\", \"results\"]\n",
    "}\n",
    "import json\n",
    "encoded_data = json.dumps(schema).encode(\"utf-8\") "
   ]
  },
  {
   "cell_type": "code",
   "execution_count": null,
   "metadata": {},
   "outputs": [],
   "source": [
    "# Load and chunk contents of the blog\n",
    "from langchain_community.document_loaders import WebBaseLoader\n",
    "\n",
    "loader = WebBaseLoader(\"https://cs2240.graphics\")\n",
    "docs = loader.load()\n",
    "\n",
    "text_splitter = RecursiveCharacterTextSplitter(chunk_size=1000, chunk_overlap=200)\n",
    "all_splits = text_splitter.split_documents(docs)\n",
    "\n",
    "# Index chunks\n",
    "_ = vector_store.add_documents(documents=all_splits)"
   ]
  },
  {
   "cell_type": "code",
   "execution_count": 35,
   "metadata": {},
   "outputs": [],
   "source": [
    "prompt = hub.pull(\"rlm/rag-prompt\")\n",
    "\n",
    "\n",
    "# Define state for application\n",
    "class State(TypedDict):\n",
    "    question: str\n",
    "    context: List[Document]\n",
    "    answer: str\n",
    "\n",
    "\n",
    "# Define application steps\n",
    "def retrieve(state: State):\n",
    "    retrieved_docs = vector_store.similarity_search(state[\"question\"])\n",
    "    return {\"context\": retrieved_docs}\n",
    "\n",
    "\n",
    "def generate(state: State):\n",
    "    docs_content = \"\\n\\n\".join(doc.page_content for doc in state[\"context\"])\n",
    "    messages = prompt.invoke({\"question\": state[\"question\"], \"context\": docs_content})\n",
    "    response = llm.invoke(messages)\n",
    "    return {\"answer\": response.content}\n",
    "\n",
    "\n",
    "# Compile application and test\n",
    "graph_builder = StateGraph(State).add_sequence([retrieve, generate])\n",
    "graph_builder.add_edge(START, \"retrieve\")\n",
    "graph = graph_builder.compile()"
   ]
  },
  {
   "cell_type": "code",
   "execution_count": 36,
   "metadata": {},
   "outputs": [
    {
     "name": "stdout",
     "output_type": "stream",
     "text": [
      "The course is focused on computer graphics, guiding students from basic knowledge to the ability to read and implement graphics research papers. Key topics include light transport physics, geometry representation, quadratic optimization, and continuum mechanics for simulating solid objects. By the end, students will be prepared for research careers or roles in industrial labs within the field of computer graphics.\n"
     ]
    }
   ],
   "source": [
    "response = graph.invoke({\"question\": \"What is the course about?\"})\n",
    "print(response[\"answer\"])"
   ]
  },
  {
   "cell_type": "code",
   "execution_count": 37,
   "metadata": {},
   "outputs": [
    {
     "name": "stdout",
     "output_type": "stream",
     "text": [
      "The instructor is Daniel Ritchie.\n"
     ]
    }
   ],
   "source": [
    "response = graph.invoke({\"question\": \"Who is the instructor?\"})\n",
    "print(response[\"answer\"])"
   ]
  },
  {
   "cell_type": "code",
   "execution_count": 38,
   "metadata": {},
   "outputs": [
    {
     "name": "stdout",
     "output_type": "stream",
     "text": [
      "Yes, this course is a solid choice for pursuing a career as an AI Engineer in graphics. It offers advanced knowledge in key areas like rendering, geometry processing, and optimization, preparing you for both academic and industrial research roles. Additionally, the course emphasizes practical project work, which is essential for a successful career in this field.\n"
     ]
    }
   ],
   "source": [
    "response = graph.invoke({\"question\": \"If i want to pursue a career as a AI Enginner in graphics, is this course good?\"})\n",
    "print(response[\"answer\"])"
   ]
  }
 ],
 "metadata": {
  "kernelspec": {
   "display_name": "env",
   "language": "python",
   "name": "python3"
  },
  "language_info": {
   "codemirror_mode": {
    "name": "ipython",
    "version": 3
   },
   "file_extension": ".py",
   "mimetype": "text/x-python",
   "name": "python",
   "nbconvert_exporter": "python",
   "pygments_lexer": "ipython3",
   "version": "3.11.11"
  }
 },
 "nbformat": 4,
 "nbformat_minor": 2
}
